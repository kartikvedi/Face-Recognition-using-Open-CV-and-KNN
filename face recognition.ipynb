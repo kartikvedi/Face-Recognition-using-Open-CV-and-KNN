{
 "cells": [
  {
   "cell_type": "raw",
   "id": "a1e64fb7",
   "metadata": {},
   "source": [
    "# Recognise Faces using some classification algorithm - like Logistic, KNN, SVM etc.\n",
    "\n",
    "# 1. load the training data (numpy arrays of all the persons)\n",
    "# x- values are stored in the numpy arrays\n",
    "# y-values we need to assign for each person\n",
    "# 2. Read a video stream using opencv\n",
    "# 3. extract faces out of it\n",
    "# 4. use knn to find the prediction of face (int)\n",
    "# 5. map the predicted id to name of the user \n",
    "# 6. Display the predictions on the screen - bounding box and name\n"
   ]
  },
  {
   "cell_type": "code",
   "execution_count": 1,
   "id": "0d6b714a",
   "metadata": {},
   "outputs": [],
   "source": [
    "import cv2\n",
    "import numpy as np \n",
    "import os "
   ]
  },
  {
   "cell_type": "code",
   "execution_count": 2,
   "id": "935b7a4a",
   "metadata": {},
   "outputs": [],
   "source": [
    "########## KNN CODE ############\n",
    "\n",
    "def distance(v1,v2):\n",
    "    # Euclidean Distance\n",
    "    return np.sqrt(((v1-v2)**2).sum())\n",
    "\n",
    "def knn(train,test,k=5):\n",
    "    dist=[]\n",
    "    \n",
    "    for i in range(train.shape[0]):\n",
    "        #Get the vector and label\n",
    "        ix=train[i:,:-1]\n",
    "        iy=train[i,-1]\n",
    "        \n",
    "        # Compute the distance from test point\n",
    "        d=distance(test,ix)\n",
    "        dist.append([d,iy])\n",
    "        # Sort based on distance and get top k\n",
    "        dk=sorted(dist,key=lambda x: x[0])[:k] \n",
    "        #Retrive only the labels\n",
    "        labels=np.array(dk)[:,-1]\n",
    "        # get frequency of each labels\n",
    "        output=np.unique(labels,return_counts=True)\n",
    "        # Find max frequency and corresponding label\n",
    "        index=np.argmax(output[1])\n",
    "        return output[0][index]"
   ]
  },
  {
   "cell_type": "code",
   "execution_count": 7,
   "id": "fa6b153d",
   "metadata": {},
   "outputs": [
    {
     "name": "stdout",
     "output_type": "stream",
     "text": [
      "Loaded Kartik.npy\n",
      "(21, 30000)\n",
      "(21, 1)\n",
      "(21, 30001)\n"
     ]
    }
   ],
   "source": [
    "#Init Camera\n",
    "cap = cv2.VideoCapture(0)\n",
    "\n",
    "# Face Detection\n",
    "face_cascade = cv2.CascadeClassifier(\"haarcascade_frontalface_alt.xml\")\n",
    "\n",
    "skip = 0\n",
    "dataset_path = './data/'\n",
    "\n",
    "face_data = [] \n",
    "labels = []\n",
    "\n",
    "class_id = 0 # Labels for the given file\n",
    "names = {} #Mapping btw id - name\n",
    "\n",
    "\n",
    "# Data Preparation\n",
    "for fx in os.listdir(dataset_path):\n",
    "\tif fx.endswith('.npy'):\n",
    "\t\t#Create a mapping btw class_id and name\n",
    "\t\tnames[class_id] = fx[:-4]\n",
    "\t\tprint(\"Loaded \"+fx)\n",
    "\t\tdata_item = np.load(dataset_path+fx)\n",
    "\t\tface_data.append(data_item)\n",
    "\n",
    "\t\t#Create Labels for the class\n",
    "\t\ttarget = class_id*np.ones((data_item.shape[0],))\n",
    "\t\tclass_id += 1\n",
    "\t\tlabels.append(target)\n",
    "\n",
    "face_dataset = np.concatenate(face_data,axis=0)\n",
    "face_labels = np.concatenate(labels,axis=0).reshape((-1,1))\n",
    "\n",
    "print(face_dataset.shape)\n",
    "print(face_labels.shape)\n",
    "\n",
    "trainset = np.concatenate((face_dataset,face_labels),axis=1)\n",
    "print(trainset.shape)\n",
    "\n",
    "# Testing \n",
    "\n",
    "while True:\n",
    "\tret,frame = cap.read()\n",
    "\tif ret == False:\n",
    "\t\tcontinue\n",
    "\n",
    "\tfaces = face_cascade.detectMultiScale(frame,1.3,5)\n",
    "\tif(len(faces)==0):\n",
    "\t\tcontinue\n",
    "\n",
    "\tfor face in faces:\n",
    "\t\tx,y,w,h = face\n",
    "\n",
    "\t\t#Get the face ROI\n",
    "\t\toffset = 10\n",
    "\t\tface_section = frame[y-offset:y+h+offset,x-offset:x+w+offset]\n",
    "\t\tface_section = cv2.resize(face_section,(100,100))\n",
    "\n",
    "\t\t#Predicted Label (out)\n",
    "\t\tout = knn(trainset,face_section.flatten())\n",
    "\n",
    "\t\t#Display on the screen the name and rectangle around it\n",
    "\t\tpred_name = names[int(out)]\n",
    "\t\tcv2.putText(frame,pred_name,(x,y-10),cv2.FONT_HERSHEY_SIMPLEX,1,(255,0,0),2,cv2.LINE_AA)\n",
    "\t\tcv2.rectangle(frame,(x,y),(x+w,y+h),(0,255,255),2)\n",
    "\n",
    "\tcv2.imshow(\"Faces\",frame)\n",
    "\n",
    "\tkey = cv2.waitKey(1) & 0xFF\n",
    "\tif key==ord('q'):\n",
    "\t\tbreak\n",
    "\n",
    "cap.release()\n",
    "cv2.destroyAllWindows()\n"
   ]
  },
  {
   "cell_type": "code",
   "execution_count": null,
   "id": "3f792b28",
   "metadata": {},
   "outputs": [],
   "source": []
  },
  {
   "cell_type": "code",
   "execution_count": null,
   "id": "add30ce5",
   "metadata": {},
   "outputs": [],
   "source": []
  }
 ],
 "metadata": {
  "kernelspec": {
   "display_name": "Python 3 (ipykernel)",
   "language": "python",
   "name": "python3"
  },
  "language_info": {
   "codemirror_mode": {
    "name": "ipython",
    "version": 3
   },
   "file_extension": ".py",
   "mimetype": "text/x-python",
   "name": "python",
   "nbconvert_exporter": "python",
   "pygments_lexer": "ipython3",
   "version": "3.9.9"
  },
  "toc": {
   "base_numbering": 1,
   "nav_menu": {},
   "number_sections": true,
   "sideBar": true,
   "skip_h1_title": false,
   "title_cell": "Table of Contents",
   "title_sidebar": "Contents",
   "toc_cell": false,
   "toc_position": {},
   "toc_section_display": true,
   "toc_window_display": false
  },
  "varInspector": {
   "cols": {
    "lenName": 16,
    "lenType": 16,
    "lenVar": 40
   },
   "kernels_config": {
    "python": {
     "delete_cmd_postfix": "",
     "delete_cmd_prefix": "del ",
     "library": "var_list.py",
     "varRefreshCmd": "print(var_dic_list())"
    },
    "r": {
     "delete_cmd_postfix": ") ",
     "delete_cmd_prefix": "rm(",
     "library": "var_list.r",
     "varRefreshCmd": "cat(var_dic_list()) "
    }
   },
   "types_to_exclude": [
    "module",
    "function",
    "builtin_function_or_method",
    "instance",
    "_Feature"
   ],
   "window_display": false
  }
 },
 "nbformat": 4,
 "nbformat_minor": 5
}
